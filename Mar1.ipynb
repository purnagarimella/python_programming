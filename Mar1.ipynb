{
 "cells": [
  {
   "cell_type": "code",
   "execution_count": 1,
   "id": "6dcbb1e3-7d3b-409e-9678-556c26a1dc57",
   "metadata": {},
   "outputs": [],
   "source": [
    "import sys \n",
    "import keyword \n",
    "import operator \n",
    "from datetime import datetime \n",
    "import os "
   ]
  },
  {
   "cell_type": "code",
   "execution_count": 2,
   "id": "752f297a-4abb-4cd0-b9f6-d65a692fc33c",
   "metadata": {},
   "outputs": [
    {
     "name": "stdout",
     "output_type": "stream",
     "text": [
      "['False', 'None', 'True', 'and', 'as', 'assert', 'async', 'await', 'break', 'class', 'continue', 'def', 'del', 'elif', 'else', 'except', 'finally', 'for', 'from', 'global', 'if', 'import', 'in', 'is', 'lambda', 'nonlocal', 'not', 'or', 'pass', 'raise', 'return', 'try', 'while', 'with', 'yield']\n"
     ]
    }
   ],
   "source": [
    "print(keyword.kwlist) # List all Python Keywords \n"
   ]
  },
  {
   "cell_type": "code",
   "execution_count": 3,
   "id": "fb275aef-6dd9-42e0-8519-948271d3cab7",
   "metadata": {},
   "outputs": [
    {
     "data": {
      "text/plain": [
       "35"
      ]
     },
     "execution_count": 3,
     "metadata": {},
     "output_type": "execute_result"
    }
   ],
   "source": [
    "len(keyword.kwlist)"
   ]
  },
  {
   "cell_type": "code",
   "execution_count": 7,
   "id": "3292c01e-ef2b-41f4-b5cd-d31968104ecd",
   "metadata": {},
   "outputs": [
    {
     "data": {
      "text/plain": [
       "(20, int, '0x14', '0x7ffea7e62c18')"
      ]
     },
     "execution_count": 7,
     "metadata": {},
     "output_type": "execute_result"
    }
   ],
   "source": [
    " \n",
    "p = 20 #Creates an integer object with value 20 and assigns the variable p to p \n",
    "q = 20 # Create new reference q which will point to value 20. p & q will be poi \n",
    "r = q # variable r will also point to the same location where p & q are pointin \n",
    "p , type(p), hex(p),hex(id(p))"
   ]
  },
  {
   "cell_type": "code",
   "execution_count": 8,
   "id": "8e607878-921b-41a7-b8eb-d34f0de02aa1",
   "metadata": {},
   "outputs": [
    {
     "data": {
      "text/plain": [
       "(20, int, '0x7ffea7e62c18')"
      ]
     },
     "execution_count": 8,
     "metadata": {},
     "output_type": "execute_result"
    }
   ],
   "source": [
    "r , type(r), hex(id(r)) "
   ]
  },
  {
   "cell_type": "code",
   "execution_count": 9,
   "id": "1940aacd-4043-4c80-83c7-7019004c511f",
   "metadata": {},
   "outputs": [
    {
     "data": {
      "text/plain": [
       "30"
      ]
     },
     "execution_count": 9,
     "metadata": {},
     "output_type": "execute_result"
    }
   ],
   "source": [
    "\n",
    "p = 20 \n",
    "p = p + 10 # Variable Overwriting \n",
    "p "
   ]
  },
  {
   "cell_type": "code",
   "execution_count": 10,
   "id": "eae9a00b-3f3b-4cc4-847c-0ed6ca470728",
   "metadata": {},
   "outputs": [
    {
     "name": "stdout",
     "output_type": "stream",
     "text": [
      "10\n",
      "2.57\n",
      "Python Language\n"
     ]
    }
   ],
   "source": [
    "\n",
    "intvar = 10 # Integer variable \n",
    "floatvar = 2.57 # Float Variable \n",
    "strvar = \"Python Language\" # String variable \n",
    "print(intvar) \n",
    "print(floatvar) \n",
    "print(strvar) "
   ]
  },
  {
   "cell_type": "code",
   "execution_count": null,
   "id": "ab8e277b-3597-44da-9e88-faa422889684",
   "metadata": {},
   "outputs": [],
   "source": []
  }
 ],
 "metadata": {
  "kernelspec": {
   "display_name": "Python 3 (ipykernel)",
   "language": "python",
   "name": "python3"
  },
  "language_info": {
   "codemirror_mode": {
    "name": "ipython",
    "version": 3
   },
   "file_extension": ".py",
   "mimetype": "text/x-python",
   "name": "python",
   "nbconvert_exporter": "python",
   "pygments_lexer": "ipython3",
   "version": "3.12.7"
  }
 },
 "nbformat": 4,
 "nbformat_minor": 5
}
